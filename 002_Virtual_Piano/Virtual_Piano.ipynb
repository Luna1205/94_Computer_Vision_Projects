{
 "cells": [
  {
   "cell_type": "markdown",
   "metadata": {},
   "source": [
    "<p align=\"center\"> \n",
    "<a href=\"https://github.com/milaan9/94_Computer_Vision_Projects\"><img src=\"https://img.shields.io/badge/All the IPython Notebooks in Python Data Analytics Projects lecture series by Dr. Milaan Parmar are available ➔ -GitHub-blueviolet.svg\" alt=\"logo\"/></a>\n",
    "</p> "
   ]
  },
  {
   "cell_type": "markdown",
   "metadata": {},
   "source": [
    "# Virtual Piano 🎹"
   ]
  },
  {
   "cell_type": "markdown",
   "metadata": {
    "nbpresent": {
     "id": "818004ce-3b93-48be-9fb8-9bacb0f07f33"
    }
   },
   "source": [
    "### Description\n",
    "\n",
    "Floating piano keys in the air.\n",
    "\n",
    "Bring your finger to the keys you want to play, click them and make your beautiful melodies\n",
    "The project takes help of Computer Vision and Media Pipe Library\n",
    "\n",
    "You can play any instrument and even make your own VIRTUAL ORCHESTRA! 🎼\n",
    "by using this simple template and making few changes in the code\n",
    "\n",
    "### Music Files\n",
    "\n",
    "I have downloaded 5 to 6 piano key notes in .wav format and imported them accordingly"
   ]
  },
  {
   "cell_type": "code",
   "execution_count": null,
   "metadata": {
    "ExecuteTime": {
     "end_time": "2022-06-12T16:37:23.296600Z",
     "start_time": "2022-06-12T16:37:02.891692Z"
    }
   },
   "outputs": [],
   "source": [
    "# VERSION 1: PIANO WITH ONE HAND ONLY!\n",
    "\n",
    "import numpy as np\n",
    "import time\n",
    "# pip install opencv-python\n",
    "import cv2\n",
    "# pip install cvzone\n",
    "# pip install mediapipe\n",
    "from cvzone.HandTrackingModule import HandDetector\n",
    "# pip install pyglet\n",
    "import pyglet\n",
    "\n",
    "cap =cv2.VideoCapture(0)\n",
    "cap.set(3,1280)\n",
    "cap.set(4,720)\n",
    "\n",
    "#window = pyglet.window.Window()\n",
    "detector =HandDetector(detectionCon=0.8, maxHands=1)\n",
    "\n",
    "keys=[[\"C\",\"D\",'E',\"F\",\"G\",\"A\",\"B\",\"C\",\"D\",\"E\",\"F\",\"G\",\"A\",\"B\"],[\"C#\",\"D#\",\"F#\",\"G#\",\"A#\",\"C#\",\"D#\",\"F#\",\"G#\",\"A#\"]]\n",
    "\n",
    "class Button():\n",
    "    def __init__(self,pos,text,size,color):\n",
    "        self.pos=pos\n",
    "        self.size=size\n",
    "        self.text=text\n",
    "        self.color=color\n",
    "buttonList=[]\n",
    "for i in range(len(keys)):\n",
    "    for j,key in enumerate(keys[i]):   \n",
    "        if i==0:\n",
    "            buttonList.append(Button([38*j+15,80],key,[35,100],(255,255,255)))\n",
    "        else:\n",
    "            buttonList.append(Button([(40+j)*j+25,80],key,[35,50],(0,0,0)))    \n",
    "\n",
    "def playkeys(button):\n",
    "    if button.text==\"A\":           \n",
    "        effectA=pyglet.resource.media(\"A.wav\",streaming=False)\n",
    "        effectA.play()                               \n",
    "    elif button.text==\"B\":            \n",
    "        effectB=pyglet.resource.media(\"B.wav\",streaming=False)\n",
    "        effectB.play()                \n",
    "    elif button.text==\"C\":            \n",
    "        effectC=pyglet.resource.media(\"C.wav\",streaming=False)\n",
    "        effectC.play()       \n",
    "    elif button.text==\"D\":           \n",
    "        effectD=pyglet.resource.media(\"D.wav\",streaming=False)\n",
    "        effectD.play()       \n",
    "    elif button.text==\"E\":            \n",
    "        effectE=pyglet.resource.media(\"E.wav\",streaming=False)\n",
    "        effectE.play()        \n",
    "    elif button.text==\"F\":            \n",
    "        effectF=pyglet.resource.media(\"F.wav\",streaming=False)\n",
    "        effectF.play()      \n",
    "    elif button.text==\"G\":            \n",
    "        effectG=pyglet.resource.media(\"G.wav\",streaming=False)\n",
    "        effectG.play()                  \n",
    "\n",
    "\n",
    "def drawAll(img,buttonList):\n",
    "    for button in buttonList:\n",
    "        x,y=button.pos\n",
    "        w,h=button.size\n",
    "        colorr=button.color\n",
    "        cv2.rectangle(img,button.pos,(x+w,y+h),colorr,cv2.FILLED)\n",
    "        cv2.putText(img,button.text,(x+10,y+h-10),cv2.FONT_HERSHEY_COMPLEX,0.5,(214,0,220),2)\n",
    "    return img    \n",
    "\n",
    "while True:\n",
    "    # Get image frame\n",
    "    success, img = cap.read()\n",
    "\n",
    "    # Find the hand and its landmarks\n",
    "    img= detector.findHands(img)\n",
    "    lmList,bbox=detector.findHands(img)\n",
    "    \n",
    "    img=drawAll(img,buttonList)\n",
    "    if lmList:        #hand is there\n",
    "        for button in buttonList:\n",
    "            x,y=button.pos\n",
    "            w,h=button.size\n",
    "            \n",
    "            for f in [4,8,12,16,20]:\n",
    "\n",
    "                 if x<lmList[f][0]<x+w and y<lmList[f][1]<y+h:\n",
    "                     l,_,_=detector.findDistance(f,f-3,img,draw=False)\n",
    "                     if l<120:\n",
    "                         #cv2.rectangle(img,button.pos,(x+w,y+h),(80,9,78),cv2.FILLED)\n",
    "                         playkeys(button)\n",
    "                            \n",
    "    # Display\n",
    "    cv2.imshow(\"Image\", img)\n",
    "    cv2.waitKey(1)"
   ]
  },
  {
   "cell_type": "code",
   "execution_count": null,
   "metadata": {
    "ExecuteTime": {
     "end_time": "2022-06-12T16:18:10.202553Z",
     "start_time": "2022-06-12T16:17:48.043213Z"
    }
   },
   "outputs": [],
   "source": [
    "# VERSION 2: \n",
    "\n",
    "from cvzone.HandTrackingModule import HandDetector\n",
    "import cv2\n",
    "\n",
    "cap = cv2.VideoCapture(0)\n",
    "cap.set(3,1280)\n",
    "cap.set(4,720)\n",
    "\n",
    "\n",
    "detector = HandDetector(detectionCon=0.0, maxHands=1)\n",
    "\n",
    "keys=[[\"C\",\"D\",'E',\"F\",\"G\",\"A\",\"B\",\"C\",\"D\",\"E\",\"F\",\"G\",\"A\",\"B\"],[\"C#\",\"D#\",\"F#\",\"G#\",\"A#\",\"C#\",\"D#\",\"F#\",\"G#\",\"A#\"]]\n",
    "\n",
    "class Button():\n",
    "    def __init__(self,pos,text,size,color):\n",
    "        self.pos=pos\n",
    "        self.size=size\n",
    "        self.text=text\n",
    "        self.color=color\n",
    "buttonList=[]\n",
    "for i in range(len(keys)):\n",
    "    for j,key in enumerate(keys[i]):   \n",
    "        if i==0:\n",
    "            buttonList.append(Button([38*j+15,80],key,[35,100],(255,255,255)))\n",
    "        else:\n",
    "            buttonList.append(Button([(40+j)*j+25,80],key,[35,50],(0,0,0))) \n",
    "\n",
    "def drawAll(img,buttonList):\n",
    "    for button in buttonList:\n",
    "        x,y=button.pos\n",
    "        w,h=button.size\n",
    "        colorr=button.color\n",
    "        cv2.rectangle(img,button.pos,(x+w,y+h),colorr,cv2.FILLED)\n",
    "        cv2.putText(img,button.text,(x+10,y+h-10), cv2.FONT_HERSHEY_COMPLEX,0.5,(214,0,220),2)\n",
    "    return img               \n",
    "            \n",
    "while True:\n",
    "    # Get image frame\n",
    "    success, img = cap.read()\n",
    "    # Find the hand and its landmarks\n",
    "    hands, img = detector.findHands(img)  # with draw\n",
    "    # hands = detector.findHands(img, draw=False)  # without draw\n",
    "    \n",
    "    lmList,bbox=detector.findHands(img)\n",
    "    \n",
    "    img=drawAll(img,buttonList)\n",
    "    if lmList:        #hand is there\n",
    "        for button in buttonList:\n",
    "            x,y=button.pos\n",
    "            w,h=button.size          \n",
    "            for f in [4,8,12,16,20]:\n",
    "                 if x<lmList[f][0]<x+w and y<lmList[f][1]<y+h:\n",
    "#                      l,_,_=detector.findDistance(f,f-3,img,draw=False)\n",
    "                     if l<120:\n",
    "                         #cv2.rectangle(img,button.pos,(x+w,y+h),(80,9,78),cv2.FILLED)\n",
    "                         playkeys(button)   \n",
    "\n",
    "    if hands:\n",
    "        # Hand 1\n",
    "        hand1 = hands[0]\n",
    "        lmList1 = hand1[\"lmList\"]  # List of 21 Landmark points\n",
    "        bbox1 = hand1[\"bbox\"]  # Bounding box info x,y,w,h\n",
    "        centerPoint1 = hand1['center']  # center of the hand cx,cy\n",
    "        handType1 = hand1[\"type\"]  # Handtype Left or Right\n",
    "\n",
    "        fingers1 = detector.fingersUp(hand1)\n",
    "\n",
    "        if len(hands) == 2:\n",
    "            # Hand 2\n",
    "            hand2 = hands[1]\n",
    "            lmList2 = hand2[\"lmList\"]  # List of 21 Landmark points\n",
    "            bbox2 = hand2[\"bbox\"]  # Bounding box info x,y,w,h\n",
    "            centerPoint2 = hand2['center']  # center of the hand cx,cy\n",
    "            handType2 = hand2[\"type\"]  # Hand Type \"Left\" or \"Right\"\n",
    "\n",
    "            fingers2 = detector.fingersUp(hand2)\n",
    "\n",
    "            # Find Distance between two Landmarks. Could be same hand or different hands\n",
    "            length, info, img = detector.findDistance(lmList1[8], lmList2[8], img)  # with draw\n",
    "            # length, info = detector.findDistance(lmList1[8], lmList2[8])  # with draw\n",
    "    # Display\n",
    "    cv2.imshow(\"Image\", img)\n",
    "    cv2.waitKey(1)\n",
    "cap.release()\n",
    "cv2.destroyAllWindows()"
   ]
  },
  {
   "cell_type": "code",
   "execution_count": null,
   "metadata": {},
   "outputs": [],
   "source": []
  },
  {
   "cell_type": "code",
   "execution_count": null,
   "metadata": {
    "ExecuteTime": {
     "end_time": "2022-06-12T16:14:19.365326Z",
     "start_time": "2022-06-12T16:14:00.134160Z"
    }
   },
   "outputs": [],
   "source": [
    "# VERSION 3: PIANO WITH TWO HANDS\n",
    "\n",
    "import numpy as np\n",
    "import time\n",
    "# pip install opencv-python\n",
    "import cv2\n",
    "# pip install cvzone\n",
    "# pip install mediapipe\n",
    "from cvzone.HandTrackingModule import HandDetector\n",
    "# pip install pyglet\n",
    "import pyglet\n",
    "\n",
    "\n",
    "# from cvzone.HandTrackingModule import HandDetector\n",
    "# import cv2\n",
    "\n",
    "cap = cv2.VideoCapture(0)\n",
    "cap.set(3,1280)\n",
    "cap.set(4,720)\n",
    "\n",
    "window = pyglet.window.Window()\n",
    "detector = HandDetector(detectionCon=0.0, maxHands=1)\n",
    "\n",
    "keys=[[\"C\",\"D\",'E',\"F\",\"G\",\"A\",\"B\",\"C\",\"D\",\"E\",\"F\",\"G\",\"A\",\"B\"],[\"C#\",\"D#\",\"F#\",\"G#\",\"A#\",\"C#\",\"D#\",\"F#\",\"G#\",\"A#\"]]\n",
    "\n",
    "class Button():\n",
    "    def __init__(self,pos,text,size,color):\n",
    "        self.pos=pos\n",
    "        self.size=size\n",
    "        self.text=text\n",
    "        self.color=color\n",
    "buttonList=[]\n",
    "for i in range(len(keys)):\n",
    "    for j,key in enumerate(keys[i]):   \n",
    "        if i==0:\n",
    "            buttonList.append(Button([38*j+15,80],key,[35,100],(255,255,255)))\n",
    "        else:\n",
    "            buttonList.append(Button([(40+j)*j+25,80],key,[35,50],(0,0,0)))    \n",
    "\n",
    "def playkeys(button):\n",
    "    if button.text==\"A\":           \n",
    "        effectA=pyglet.resource.media(\"A.wav\",streaming=False)\n",
    "        effectA.play()             \n",
    "    elif button.text==\"B\":         \n",
    "        effectB=pyglet.resource.media(\"B.wav\",streaming=False)\n",
    "        effectB.play()            \n",
    "    elif button.text==\"C\":           \n",
    "        effectC=pyglet.resource.media(\"C.wav\",streaming=False)\n",
    "        effectC.play()             \n",
    "    elif button.text==\"D\":         \n",
    "        effectD=pyglet.resource.media(\"D.wav\",streaming=False)\n",
    "        effectD.play()           \n",
    "    elif button.text==\"E\":            \n",
    "        effectE=pyglet.resource.media(\"E.wav\",streaming=False)\n",
    "        effectE.play()               \n",
    "    elif button.text==\"F\":           \n",
    "        effectF=pyglet.resource.media(\"F.wav\",streaming=False)\n",
    "        effectF.play()                \n",
    "    elif button.text==\"G\":              \n",
    "        effectG=pyglet.resource.media(\"G.wav\",streaming=False)\n",
    "        effectG.play()                  \n",
    "\n",
    "def drawAll(img,buttonList):\n",
    "    for button in buttonList:\n",
    "        x,y=button.pos\n",
    "        w,h=button.size\n",
    "        colorr=button.color\n",
    "        cv2.rectangle(img,button.pos,(x+w,y+h),colorr,cv2.FILLED)\n",
    "        cv2.putText(img,button.text,(x+10,y+h-10), cv2.FONT_HERSHEY_COMPLEX,0.5,(214,0,220),2)\n",
    "    return img    \n",
    "\n",
    "while True:\n",
    "    # Get image frame\n",
    "    success, img = cap.read()\n",
    "    # Find the hand and its landmarks\n",
    "    hands, img = detector.findHands(img)  # with draw\n",
    "    # hands = detector.findHands(img, draw=False)  # without draw\n",
    "    \n",
    "    \n",
    "    lmList,bbox=detector.findPosition(img)\n",
    "    \n",
    "    img=drawAll(img,buttonList)\n",
    "    if lmList:        #hand is there\n",
    "        for button in buttonList:\n",
    "            x,y=button.pos\n",
    "            w,h=button.size          \n",
    "            for f in [4,8,12,16,20]:\n",
    "                 if x<lmList[f][0]<x+w and y<lmList[f][1]<y+h:\n",
    "#                      l,_,_=detector.findDistance(f,f-3,img,draw=False)\n",
    "                     if l<120:\n",
    "                         #cv2.rectangle(img,button.pos,(x+w,y+h),(80,9,78),cv2.FILLED)\n",
    "                         playkeys(button)   \n",
    "\n",
    "    if hands:\n",
    "        # Hand 1\n",
    "        hand1 = hands[0]\n",
    "        lmList1 = hand1[\"lmList\"]  # List of 21 Landmark points\n",
    "        bbox1 = hand1[\"bbox\"]  # Bounding box info x,y,w,h\n",
    "        centerPoint1 = hand1['center']  # center of the hand cx,cy\n",
    "        handType1 = hand1[\"type\"]  # Handtype Left or Right\n",
    "\n",
    "        fingers1 = detector.fingersUp(hand1)\n",
    "\n",
    "        if len(hands) == 2:\n",
    "            # Hand 2\n",
    "            hand2 = hands[1]\n",
    "            lmList2 = hand2[\"lmList\"]  # List of 21 Landmark points\n",
    "            bbox2 = hand2[\"bbox\"]  # Bounding box info x,y,w,h\n",
    "            centerPoint2 = hand2['center']  # center of the hand cx,cy\n",
    "            handType2 = hand2[\"type\"]  # Hand Type \"Left\" or \"Right\"\n",
    "\n",
    "            fingers2 = detector.fingersUp(hand2)\n",
    "\n",
    "            # Find Distance between two Landmarks. Could be same hand or different hands\n",
    "            length, info, img = detector.findDistance(lmList1[8], lmList2[8], img)  # with draw\n",
    "            # length, info = detector.findDistance(lmList1[8], lmList2[8])  # with draw\n",
    "            \n",
    "            \n",
    "    # Display\n",
    "    cv2.imshow(\"Image\", img)\n",
    "    cv2.waitKey(1)\n",
    "cap.release()\n",
    "cv2.destroyAllWindows()"
   ]
  },
  {
   "cell_type": "code",
   "execution_count": null,
   "metadata": {},
   "outputs": [],
   "source": []
  }
 ],
 "metadata": {
  "anaconda-cloud": {},
  "hide_input": false,
  "kernelspec": {
   "display_name": "Python 3",
   "language": "python",
   "name": "python3"
  },
  "language_info": {
   "codemirror_mode": {
    "name": "ipython",
    "version": 3
   },
   "file_extension": ".py",
   "mimetype": "text/x-python",
   "name": "python",
   "nbconvert_exporter": "python",
   "pygments_lexer": "ipython3",
   "version": "3.8.8"
  },
  "nbpresent": {
   "slides": {
    "029765a0-324f-4829-89ed-d4c3d7bdfa56": {
     "id": "029765a0-324f-4829-89ed-d4c3d7bdfa56",
     "prev": "eb53caf1-dd5e-40f6-a08e-acb2c9064355",
     "regions": {
      "020ba674-4256-4ab4-93a1-7e0e7a2161ba": {
       "attrs": {
        "height": 0.8,
        "width": 0.8,
        "x": 0.1,
        "y": 0.1
       },
       "content": {
        "cell": "e6f8be49-68cc-4381-9b0f-c872712045b6",
        "part": "whole"
       },
       "id": "020ba674-4256-4ab4-93a1-7e0e7a2161ba"
      }
     }
    },
    "17063b65-52ab-4296-866f-1732fbe2b4c5": {
     "id": "17063b65-52ab-4296-866f-1732fbe2b4c5",
     "prev": "c5378b35-bbe4-43b7-9739-6d787ad32ada",
     "regions": {
      "a2944b54-cb8b-4d2d-9a89-e0fdfc9a5a03": {
       "attrs": {
        "height": 0.8,
        "width": 0.8,
        "x": 0.1,
        "y": 0.1
       },
       "content": {
        "cell": "b6af97c7-30d4-4fc6-b9d5-a213f70788c2",
        "part": "whole"
       },
       "id": "a2944b54-cb8b-4d2d-9a89-e0fdfc9a5a03"
      }
     }
    },
    "1ce04cdb-6165-4b4f-aaf7-e856a34a5139": {
     "id": "1ce04cdb-6165-4b4f-aaf7-e856a34a5139",
     "prev": "3ae68135-1f69-426a-baea-d9929a65e1c1",
     "regions": {
      "26b78508-b18f-4e94-9db0-4e860e9aeef3": {
       "attrs": {
        "height": 0.8,
        "width": 0.8,
        "x": 0.1,
        "y": 0.1
       },
       "content": {
        "cell": "73ab9300-46cb-4deb-a673-7b6f0ea718bc",
        "part": "whole"
       },
       "id": "26b78508-b18f-4e94-9db0-4e860e9aeef3"
      }
     }
    },
    "364cf224-3a9c-4786-a47f-522b3613c613": {
     "id": "364cf224-3a9c-4786-a47f-522b3613c613",
     "prev": "58d1aade-0c9f-4b85-8ac1-1ce8631623e8",
     "regions": {
      "6996a269-8482-407e-8720-5ae4f5c7dbd2": {
       "attrs": {
        "height": 0.8,
        "width": 0.8,
        "x": 0.1,
        "y": 0.1
       },
       "content": {
        "cell": "06fb5119-7446-4892-a2a5-4770b4f98297",
        "part": "whole"
       },
       "id": "6996a269-8482-407e-8720-5ae4f5c7dbd2"
      }
     }
    },
    "3ae68135-1f69-426a-baea-d9929a65e1c1": {
     "id": "3ae68135-1f69-426a-baea-d9929a65e1c1",
     "prev": "e7e979eb-a900-4dea-b580-ce7a8750f2ed",
     "regions": {
      "bd9adb8d-a5a5-4462-bf77-b75de0851d0a": {
       "attrs": {
        "height": 0.8,
        "width": 0.8,
        "x": 0.1,
        "y": 0.1
       },
       "content": {
        "cell": "65d636e8-6dca-4a24-988f-10dac2b05134",
        "part": "whole"
       },
       "id": "bd9adb8d-a5a5-4462-bf77-b75de0851d0a"
      }
     }
    },
    "504c799a-10a2-49b6-84c5-f8183c00d180": {
     "id": "504c799a-10a2-49b6-84c5-f8183c00d180",
     "prev": "f110b360-85b7-4b4b-b99f-6d7647b3bed6",
     "regions": {
      "cc92786c-5118-4036-84aa-87fa91d28467": {
       "attrs": {
        "height": 0.8,
        "width": 0.8,
        "x": 0.1,
        "y": 0.1
       },
       "content": {
        "cell": "3749cd67-821c-4c70-b6e1-c9fa76be4ee8",
        "part": "whole"
       },
       "id": "cc92786c-5118-4036-84aa-87fa91d28467"
      }
     }
    },
    "58d1aade-0c9f-4b85-8ac1-1ce8631623e8": {
     "id": "58d1aade-0c9f-4b85-8ac1-1ce8631623e8",
     "prev": "d46dbd63-6e42-4de8-a34a-d797e2bf75a2",
     "regions": {
      "2814a179-b51d-4b1e-b1ea-05830fdc84ff": {
       "attrs": {
        "height": 0.8,
        "width": 0.8,
        "x": 0.1,
        "y": 0.1
       },
       "content": {
        "cell": "a043ba25-f180-41cf-b29b-ec7e6bab8d57",
        "part": "whole"
       },
       "id": "2814a179-b51d-4b1e-b1ea-05830fdc84ff"
      }
     }
    },
    "8752525b-c794-48fe-8aa7-d4a85bdf53fa": {
     "id": "8752525b-c794-48fe-8aa7-d4a85bdf53fa",
     "prev": "df830ab6-e594-43d4-a9ad-f241e13b1278",
     "regions": {
      "7226298c-bfa5-44a2-bd6d-21fb50409904": {
       "attrs": {
        "height": 0.8,
        "width": 0.8,
        "x": 0.1,
        "y": 0.1
       },
       "content": {
        "cell": "678c0d45-faba-4084-9235-0923c653792a",
        "part": "whole"
       },
       "id": "7226298c-bfa5-44a2-bd6d-21fb50409904"
      }
     }
    },
    "92de18eb-29ed-44b0-83c8-95db511e0e55": {
     "id": "92de18eb-29ed-44b0-83c8-95db511e0e55",
     "prev": "8752525b-c794-48fe-8aa7-d4a85bdf53fa",
     "regions": {
      "9f8e4fc0-1a4c-4f98-964f-9027dcfb6df5": {
       "attrs": {
        "height": 0.8,
        "width": 0.8,
        "x": 0.1,
        "y": 0.1
       },
       "content": {
        "cell": "0a72bf45-3489-4633-a99f-d4fba5d072ac",
        "part": "whole"
       },
       "id": "9f8e4fc0-1a4c-4f98-964f-9027dcfb6df5"
      }
     }
    },
    "98ca86b5-1929-489d-bc0c-5095a542b89f": {
     "id": "98ca86b5-1929-489d-bc0c-5095a542b89f",
     "prev": null,
     "regions": {
      "4080ad88-0b11-4a89-a777-7a22dcc73104": {
       "attrs": {
        "height": 0.8,
        "width": 0.8,
        "x": 0.1,
        "y": 0.1
       },
       "content": {
        "cell": "9f1df27f-184a-4b8b-bac6-951c73073085",
        "part": "whole"
       },
       "id": "4080ad88-0b11-4a89-a777-7a22dcc73104"
      }
     }
    },
    "98e9ac6a-316b-4e29-b4ee-bc6a149ceffb": {
     "id": "98e9ac6a-316b-4e29-b4ee-bc6a149ceffb",
     "prev": "c8da1fba-4fc5-4f36-8fac-423cbb55f44a",
     "regions": {
      "4cd7cf6b-40c0-4886-a5cc-a8821d855a7b": {
       "attrs": {
        "height": 0.8,
        "width": 0.8,
        "x": 0.1,
        "y": 0.1
       },
       "content": {
        "cell": "818004ce-3b93-48be-9fb8-9bacb0f07f33",
        "part": "whole"
       },
       "id": "4cd7cf6b-40c0-4886-a5cc-a8821d855a7b"
      }
     }
    },
    "adcf599c-e7e7-4245-b171-d38d06a41644": {
     "id": "adcf599c-e7e7-4245-b171-d38d06a41644",
     "prev": "d93546de-291d-4547-8f16-425c2edc33ee",
     "regions": {
      "342e1946-4183-4572-994d-5cc77c8b1ab6": {
       "attrs": {
        "height": 0.8,
        "width": 0.8,
        "x": 0.1,
        "y": 0.1
       },
       "content": {
        "cell": "a7e09e9f-7609-4cb0-b81e-67442d426e0d",
        "part": "whole"
       },
       "id": "342e1946-4183-4572-994d-5cc77c8b1ab6"
      }
     }
    },
    "c5378b35-bbe4-43b7-9739-6d787ad32ada": {
     "id": "c5378b35-bbe4-43b7-9739-6d787ad32ada",
     "prev": "98e9ac6a-316b-4e29-b4ee-bc6a149ceffb",
     "regions": {
      "2b8bbb2a-fa7f-4a72-80ce-f5deb38e8b22": {
       "attrs": {
        "height": 0.8,
        "width": 0.8,
        "x": 0.1,
        "y": 0.1
       },
       "content": {
        "cell": "34efc993-87f8-4055-bde3-0231aacc0579",
        "part": "whole"
       },
       "id": "2b8bbb2a-fa7f-4a72-80ce-f5deb38e8b22"
      }
     }
    },
    "c8da1fba-4fc5-4f36-8fac-423cbb55f44a": {
     "id": "c8da1fba-4fc5-4f36-8fac-423cbb55f44a",
     "prev": "adcf599c-e7e7-4245-b171-d38d06a41644",
     "regions": {
      "5acfa550-6a81-4477-afe6-a6d1de5d5fb4": {
       "attrs": {
        "height": 0.8,
        "width": 0.8,
        "x": 0.1,
        "y": 0.1
       },
       "content": {
        "cell": "e7a5c9bd-eaa8-4f5e-9e19-18ceea5e11af",
        "part": "whole"
       },
       "id": "5acfa550-6a81-4477-afe6-a6d1de5d5fb4"
      }
     }
    },
    "d46dbd63-6e42-4de8-a34a-d797e2bf75a2": {
     "id": "d46dbd63-6e42-4de8-a34a-d797e2bf75a2",
     "prev": "1ce04cdb-6165-4b4f-aaf7-e856a34a5139",
     "regions": {
      "993139e0-e0c0-4d94-a67a-8d83eb3ab97b": {
       "attrs": {
        "height": 0.8,
        "width": 0.8,
        "x": 0.1,
        "y": 0.1
       },
       "content": {
        "cell": "5f0c338b-0d11-4d51-836a-e003c07412ee",
        "part": "whole"
       },
       "id": "993139e0-e0c0-4d94-a67a-8d83eb3ab97b"
      }
     }
    },
    "d93546de-291d-4547-8f16-425c2edc33ee": {
     "id": "d93546de-291d-4547-8f16-425c2edc33ee",
     "prev": "98ca86b5-1929-489d-bc0c-5095a542b89f",
     "regions": {
      "a9485a01-dd0d-4ca2-a9a4-4dfa70d762af": {
       "attrs": {
        "height": 0.8,
        "width": 0.8,
        "x": 0.1,
        "y": 0.1
       },
       "content": {
        "cell": "f9774957-e9a8-4e5d-a3a2-11d58c98f4f3",
        "part": "whole"
       },
       "id": "a9485a01-dd0d-4ca2-a9a4-4dfa70d762af"
      }
     }
    },
    "df830ab6-e594-43d4-a9ad-f241e13b1278": {
     "id": "df830ab6-e594-43d4-a9ad-f241e13b1278",
     "prev": "e8f59263-df5b-41b7-b47a-b72401367b8c",
     "regions": {
      "539907c0-857c-49ab-a35b-689088d4d441": {
       "attrs": {
        "height": 0.8,
        "width": 0.8,
        "x": 0.1,
        "y": 0.1
       },
       "content": {
        "cell": "dd80c7bb-5dfd-4bac-b1f9-92f09954a04d",
        "part": "whole"
       },
       "id": "539907c0-857c-49ab-a35b-689088d4d441"
      }
     }
    },
    "e7e979eb-a900-4dea-b580-ce7a8750f2ed": {
     "id": "e7e979eb-a900-4dea-b580-ce7a8750f2ed",
     "prev": "029765a0-324f-4829-89ed-d4c3d7bdfa56",
     "regions": {
      "ef9a6766-0a12-4eb5-bb55-c45a7807f03e": {
       "attrs": {
        "height": 0.8,
        "width": 0.8,
        "x": 0.1,
        "y": 0.1
       },
       "content": {
        "cell": "a9522023-ad9b-4f5b-bc07-36ff15f1746a",
        "part": "whole"
       },
       "id": "ef9a6766-0a12-4eb5-bb55-c45a7807f03e"
      }
     }
    },
    "e8f59263-df5b-41b7-b47a-b72401367b8c": {
     "id": "e8f59263-df5b-41b7-b47a-b72401367b8c",
     "prev": "17063b65-52ab-4296-866f-1732fbe2b4c5",
     "regions": {
      "7f5be598-0698-4492-b474-a68934db4693": {
       "attrs": {
        "height": 0.8,
        "width": 0.8,
        "x": 0.1,
        "y": 0.1
       },
       "content": {
        "cell": "3411a17b-52dd-4b3d-8ec4-22e6ea79a516",
        "part": "whole"
       },
       "id": "7f5be598-0698-4492-b474-a68934db4693"
      }
     }
    },
    "eb53caf1-dd5e-40f6-a08e-acb2c9064355": {
     "id": "eb53caf1-dd5e-40f6-a08e-acb2c9064355",
     "prev": "92de18eb-29ed-44b0-83c8-95db511e0e55",
     "regions": {
      "0e9f4ac0-108d-4a56-8920-34eaa676bbd6": {
       "attrs": {
        "height": 0.8,
        "width": 0.8,
        "x": 0.1,
        "y": 0.1
       },
       "content": {
        "cell": "01bd515a-1951-4ae7-8d39-a96079fc9eff",
        "part": "whole"
       },
       "id": "0e9f4ac0-108d-4a56-8920-34eaa676bbd6"
      }
     }
    },
    "f110b360-85b7-4b4b-b99f-6d7647b3bed6": {
     "id": "f110b360-85b7-4b4b-b99f-6d7647b3bed6",
     "prev": "364cf224-3a9c-4786-a47f-522b3613c613",
     "regions": {
      "95a79cf2-40d9-401a-9392-2dff5250fc23": {
       "attrs": {
        "height": 0.8,
        "width": 0.8,
        "x": 0.1,
        "y": 0.1
       },
       "content": {
        "cell": "9469d4ac-470e-4b21-a460-bdfb54fd0d4f",
        "part": "whole"
       },
       "id": "95a79cf2-40d9-401a-9392-2dff5250fc23"
      }
     }
    }
   },
   "themes": {}
  },
  "toc": {
   "base_numbering": 1,
   "nav_menu": {},
   "number_sections": true,
   "sideBar": true,
   "skip_h1_title": false,
   "title_cell": "Table of Contents",
   "title_sidebar": "Contents",
   "toc_cell": false,
   "toc_position": {},
   "toc_section_display": true,
   "toc_window_display": false
  },
  "varInspector": {
   "cols": {
    "lenName": 16,
    "lenType": 16,
    "lenVar": 40
   },
   "kernels_config": {
    "python": {
     "delete_cmd_postfix": "",
     "delete_cmd_prefix": "del ",
     "library": "var_list.py",
     "varRefreshCmd": "print(var_dic_list())"
    },
    "r": {
     "delete_cmd_postfix": ") ",
     "delete_cmd_prefix": "rm(",
     "library": "var_list.r",
     "varRefreshCmd": "cat(var_dic_list()) "
    }
   },
   "types_to_exclude": [
    "module",
    "function",
    "builtin_function_or_method",
    "instance",
    "_Feature"
   ],
   "window_display": false
  }
 },
 "nbformat": 4,
 "nbformat_minor": 1
}
